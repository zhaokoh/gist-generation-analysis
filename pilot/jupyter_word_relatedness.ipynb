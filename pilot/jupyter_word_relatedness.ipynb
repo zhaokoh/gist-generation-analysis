{
 "cells": [
  {
   "cell_type": "markdown",
   "metadata": {
    "hide_input": false
   },
   "source": [
    "# Word Relatedness\n",
    "\n",
    "This notebook calculate the word relatedness using gensim and word2vec dataset."
   ]
  },
  {
   "cell_type": "code",
   "execution_count": 55,
   "metadata": {
    "hide_input": true
   },
   "outputs": [],
   "source": [
    "from IPython.display import HTML\n",
    "from PIL import Image\n",
    "from io import BytesIO\n",
    "\n",
    "import base64\n",
    "import ctypes\n",
    "import numpy as np\n",
    "import pandas as pd\n",
    "import PIL\n",
    "import scipy.io as sio"
   ]
  },
  {
   "cell_type": "code",
   "execution_count": null,
   "metadata": {},
   "outputs": [],
   "source": [
    "import gensim\n",
    "import re\n",
    "import pandas\n",
    "\n",
    "# This should be a separate snippet because it take a long time to load\n",
    "model = gensim.models.KeyedVectors.load_word2vec_format('/Volumes/Spaceship/Alon_Gist/gensim/model/GoogleNews-vectors-negative300.bin.gz', binary=True)\n",
    "\n"
   ]
  },
  {
   "cell_type": "code",
   "execution_count": null,
   "metadata": {},
   "outputs": [],
   "source": [
    "gist_word_data = pd.read_csv('actual_word_table.csv', usecols=[\"image\", \"soa\", \"word\", \"frequency\"])\n",
    "gist_word_data.head()\n"
   ]
  },
  {
   "cell_type": "code",
   "execution_count": null,
   "metadata": {},
   "outputs": [],
   "source": [
    "alon_shinji_data = pd.read_csv('alon_image_all_descriptors.csv', encoding=\"ISO-8859-1\")\n",
    "alon_shinji_data.head()"
   ]
  },
  {
   "cell_type": "code",
   "execution_count": 54,
   "metadata": {
    "scrolled": false
   },
   "outputs": [
    {
     "name": "stdout",
     "output_type": "stream",
     "text": [
      "im0004473.jpg....\n"
     ]
    },
    {
     "name": "stderr",
     "output_type": "stream",
     "text": [
      "/Users/Zhao/.pyenv/versions/3.5.0/lib/python3.5/site-packages/gensim/matutils.py:737: FutureWarning: Conversion of the second argument of issubdtype from `int` to `np.signedinteger` is deprecated. In future, it will be treated as `np.int64 == np.dtype(int).type`.\n",
      "  if np.issubdtype(vec.dtype, np.int):\n"
     ]
    },
    {
     "ename": "ValueError",
     "evalue": "setting an array element with a sequence.",
     "output_type": "error",
     "traceback": [
      "\u001b[0;31m---------------------------------------------------------------------------\u001b[0m",
      "\u001b[0;31mValueError\u001b[0m                                Traceback (most recent call last)",
      "\u001b[0;32m<ipython-input-54-b3887fb2b6de>\u001b[0m in \u001b[0;36m<module>\u001b[0;34m()\u001b[0m\n\u001b[1;32m     67\u001b[0m     \u001b[0;32mfrom\u001b[0m \u001b[0mscipy\u001b[0m\u001b[0;34m.\u001b[0m\u001b[0mcluster\u001b[0m\u001b[0;34m.\u001b[0m\u001b[0mhierarchy\u001b[0m \u001b[0;32mimport\u001b[0m \u001b[0mdendrogram\u001b[0m\u001b[0;34m,\u001b[0m \u001b[0mlinkage\u001b[0m\u001b[0;34m\u001b[0m\u001b[0m\n\u001b[1;32m     68\u001b[0m \u001b[0;34m\u001b[0m\u001b[0m\n\u001b[0;32m---> 69\u001b[0;31m     \u001b[0mZ\u001b[0m \u001b[0;34m=\u001b[0m \u001b[0mlinkage\u001b[0m\u001b[0;34m(\u001b[0m\u001b[0msimilarity_scores\u001b[0m\u001b[0;34m,\u001b[0m \u001b[0;34m'ward'\u001b[0m\u001b[0;34m)\u001b[0m\u001b[0;34m\u001b[0m\u001b[0m\n\u001b[0m\u001b[1;32m     70\u001b[0m \u001b[0;34m\u001b[0m\u001b[0m\n\u001b[1;32m     71\u001b[0m     \u001b[0mget_ipython\u001b[0m\u001b[0;34m(\u001b[0m\u001b[0;34m)\u001b[0m\u001b[0;34m.\u001b[0m\u001b[0mrun_line_magic\u001b[0m\u001b[0;34m(\u001b[0m\u001b[0;34m'matplotlib'\u001b[0m\u001b[0;34m,\u001b[0m \u001b[0;34m'inline'\u001b[0m\u001b[0;34m)\u001b[0m\u001b[0;34m\u001b[0m\u001b[0m\n",
      "\u001b[0;32m~/.pyenv/versions/3.5.0/lib/python3.5/site-packages/scipy/cluster/hierarchy.py\u001b[0m in \u001b[0;36mlinkage\u001b[0;34m(y, method, metric)\u001b[0m\n\u001b[1;32m    655\u001b[0m         \u001b[0;32mraise\u001b[0m \u001b[0mValueError\u001b[0m\u001b[0;34m(\u001b[0m\u001b[0;34m\"Invalid method: {0}\"\u001b[0m\u001b[0;34m.\u001b[0m\u001b[0mformat\u001b[0m\u001b[0;34m(\u001b[0m\u001b[0mmethod\u001b[0m\u001b[0;34m)\u001b[0m\u001b[0;34m)\u001b[0m\u001b[0;34m\u001b[0m\u001b[0m\n\u001b[1;32m    656\u001b[0m \u001b[0;34m\u001b[0m\u001b[0m\n\u001b[0;32m--> 657\u001b[0;31m     \u001b[0my\u001b[0m \u001b[0;34m=\u001b[0m \u001b[0m_convert_to_double\u001b[0m\u001b[0;34m(\u001b[0m\u001b[0mnp\u001b[0m\u001b[0;34m.\u001b[0m\u001b[0masarray\u001b[0m\u001b[0;34m(\u001b[0m\u001b[0my\u001b[0m\u001b[0;34m,\u001b[0m \u001b[0morder\u001b[0m\u001b[0;34m=\u001b[0m\u001b[0;34m'c'\u001b[0m\u001b[0;34m)\u001b[0m\u001b[0;34m)\u001b[0m\u001b[0;34m\u001b[0m\u001b[0m\n\u001b[0m\u001b[1;32m    658\u001b[0m \u001b[0;34m\u001b[0m\u001b[0m\n\u001b[1;32m    659\u001b[0m     \u001b[0;32mif\u001b[0m \u001b[0my\u001b[0m\u001b[0;34m.\u001b[0m\u001b[0mndim\u001b[0m \u001b[0;34m==\u001b[0m \u001b[0;36m1\u001b[0m\u001b[0;34m:\u001b[0m\u001b[0;34m\u001b[0m\u001b[0m\n",
      "\u001b[0;32m~/.pyenv/versions/3.5.0/lib/python3.5/site-packages/scipy/cluster/hierarchy.py\u001b[0m in \u001b[0;36m_convert_to_double\u001b[0;34m(X)\u001b[0m\n\u001b[1;32m   1107\u001b[0m \u001b[0;32mdef\u001b[0m \u001b[0m_convert_to_double\u001b[0m\u001b[0;34m(\u001b[0m\u001b[0mX\u001b[0m\u001b[0;34m)\u001b[0m\u001b[0;34m:\u001b[0m\u001b[0;34m\u001b[0m\u001b[0m\n\u001b[1;32m   1108\u001b[0m     \u001b[0;32mif\u001b[0m \u001b[0mX\u001b[0m\u001b[0;34m.\u001b[0m\u001b[0mdtype\u001b[0m \u001b[0;34m!=\u001b[0m \u001b[0mnp\u001b[0m\u001b[0;34m.\u001b[0m\u001b[0mdouble\u001b[0m\u001b[0;34m:\u001b[0m\u001b[0;34m\u001b[0m\u001b[0m\n\u001b[0;32m-> 1109\u001b[0;31m         \u001b[0mX\u001b[0m \u001b[0;34m=\u001b[0m \u001b[0mX\u001b[0m\u001b[0;34m.\u001b[0m\u001b[0mastype\u001b[0m\u001b[0;34m(\u001b[0m\u001b[0mnp\u001b[0m\u001b[0;34m.\u001b[0m\u001b[0mdouble\u001b[0m\u001b[0;34m)\u001b[0m\u001b[0;34m\u001b[0m\u001b[0m\n\u001b[0m\u001b[1;32m   1110\u001b[0m     \u001b[0;32mif\u001b[0m \u001b[0;32mnot\u001b[0m \u001b[0mX\u001b[0m\u001b[0;34m.\u001b[0m\u001b[0mflags\u001b[0m\u001b[0;34m.\u001b[0m\u001b[0mcontiguous\u001b[0m\u001b[0;34m:\u001b[0m\u001b[0;34m\u001b[0m\u001b[0m\n\u001b[1;32m   1111\u001b[0m         \u001b[0mX\u001b[0m \u001b[0;34m=\u001b[0m \u001b[0mX\u001b[0m\u001b[0;34m.\u001b[0m\u001b[0mcopy\u001b[0m\u001b[0;34m(\u001b[0m\u001b[0;34m)\u001b[0m\u001b[0;34m\u001b[0m\u001b[0m\n",
      "\u001b[0;31mValueError\u001b[0m: setting an array element with a sequence."
     ]
    }
   ],
   "source": [
    "from sklearn.feature_extraction.text import TfidfVectorizer\n",
    "from sklearn.metrics.pairwise import cosine_similarity\n",
    "import numpy as np\n",
    "import itertools\n",
    "\n",
    "image_files = []\n",
    "for row in gist_word_data.iterrows():\n",
    "    image_file = row[1]['image']\n",
    "    image_files.append(image_file)\n",
    "\n",
    "unique_files = list(set(image_files))\n",
    "for img in unique_files:\n",
    "    print(img + \"....\")\n",
    "    low_words = gist_word_data.loc[(gist_word_data['image'] == img) & (gist_word_data['soa'] == 67)]\n",
    "    medium_words = gist_word_data.loc[(gist_word_data['image'] == img) & (gist_word_data['soa'] == 133)]\n",
    "    high_words = gist_word_data.loc[(gist_word_data['image'] == img) & (gist_word_data['soa'] == 267)]\n",
    "\n",
    "    low_words = \",\".join(list(low_words['word']))\n",
    "    medium_words = \",\".join(list(medium_words['word']))\n",
    "    high_words = \",\".join(list(high_words['word']))\n",
    "    \n",
    "    image = image_file.replace(\".jpg\", \"\").replace(\"im\", \"\").lstrip(\"0\")\n",
    "\n",
    "    unlimited_words = alon_shinji_data.loc[alon_shinji_data['imageNum'] == int(image)]\n",
    "    unlimited_words = unlimited_words.iloc[0]['descriptors']\n",
    "    \n",
    "    documents = [str(low_words), \n",
    "                 str(medium_words), \n",
    "                 str(high_words), \n",
    "                 str(unlimited_words)]\n",
    "    \n",
    "    tfidf_vectorizer = TfidfVectorizer()\n",
    "    tfidf_matrix = tfidf_vectorizer.fit_transform(documents)\n",
    "\n",
    "    all_words = []\n",
    "    all_words.append(low_words)\n",
    "    all_words.append(medium_words)\n",
    "    all_words.append(high_words)\n",
    "    \n",
    "    word_list = str(all_words).split(',')\n",
    "    word_list = list(set(word_list))\n",
    "    pairwise_list = list(itertools.combinations(word_list, 2))\n",
    "    similarity_scores = [[0 for x in range(len(word_list))] for y in range(len(word_list))] \n",
    "\n",
    "    for x in range(len(word_list)):\n",
    "        for y in range(len(word_list)):\n",
    "            if x == y:\n",
    "                similarity_scores[x][y] = 1\n",
    "                \n",
    "    for pair in pairwise_list:\n",
    "        try:\n",
    "            idx1 = word_list.index(pair[0])\n",
    "            idx2 = word_list.index(pair[1])\n",
    "            similarity_scores[idx1][idx2] = model.similarity(pair[0], pair[1])\n",
    "        except KeyError as err:    \n",
    "            error_message = \"{0}\".format(err);\n",
    "            similarity_scores.append(-1)\n",
    "\n",
    "    for i in range(0, len(pairwise_list)):\n",
    "        pw = pairwise_list[i]\n",
    "        \n",
    "        idx1 = word_list.index(pw[0])\n",
    "        idx2 = word_list.index(pw[1])\n",
    "        \n",
    "        #print(\"%s vs %s: %0.4f\" % (pw[0], pw[1], similarity_scores[idx1][idx2]))\n",
    "    \n",
    "    from scipy.cluster.hierarchy import dendrogram, linkage\n",
    "    \n",
    "    Z = linkage(similarity_scores, 'ward')\n",
    "\n",
    "    %matplotlib inline\n",
    "    # calculate full dendrogram\n",
    "    plt.figure(figsize=(25, 10))\n",
    "    plt.title('Hierarchical Clustering Dendrogram')\n",
    "    plt.xlabel('sample index')\n",
    "    plt.ylabel('distance')\n",
    "    dendrogram(\n",
    "        Z,\n",
    "        leaf_rotation=90.,  # rotates the x axis labels\n",
    "        leaf_font_size=20.,  # font size for the x axis labels\n",
    "        leaf_label_func=lambda v: word_list[v],\n",
    "    )\n",
    "    \n",
    "    plt.show()    \n",
    "\n",
    "#     mat=np.random.random((4,4))\n",
    "#     mat[0,] = cosine_similarity(tfidf_matrix[0:1], tfidf_matrix)\n",
    "#     mat[1,] = cosine_similarity(tfidf_matrix[1:2], tfidf_matrix)\n",
    "#     mat[2,] = cosine_similarity(tfidf_matrix[2:3], tfidf_matrix)\n",
    "#     mat[3,] = cosine_similarity(tfidf_matrix[3:4], tfidf_matrix)\n",
    "\n",
    "#     print(mat)\n",
    "\n",
    "\n",
    "\n",
    "#     plt.imshow(mat);\n",
    "#     plt.colorbar()\n",
    "#     plt.show()\n"
   ]
  },
  {
   "cell_type": "code",
   "execution_count": null,
   "metadata": {},
   "outputs": [],
   "source": []
  }
 ],
 "metadata": {
  "celltoolbar": "Edit Metadata",
  "kernelspec": {
   "display_name": "Python 3",
   "language": "python",
   "name": "python3"
  },
  "language_info": {
   "codemirror_mode": {
    "name": "ipython",
    "version": 3
   },
   "file_extension": ".py",
   "mimetype": "text/x-python",
   "name": "python",
   "nbconvert_exporter": "python",
   "pygments_lexer": "ipython3",
   "version": "3.5.0"
  }
 },
 "nbformat": 4,
 "nbformat_minor": 2
}
